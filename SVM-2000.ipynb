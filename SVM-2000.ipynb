{
 "cells": [
  {
   "cell_type": "code",
   "execution_count": 37,
   "id": "1ac7135e",
   "metadata": {},
   "outputs": [],
   "source": [
    "# Support-Vector Machine (SVM)\n",
    "#\n",
    "# Created by ravissement 2021-12-28.\n",
    "# SVM model using i-vector Features.\n",
    "\n",
    "import numpy as np\n",
    "import pandas as pd\n",
    "import os\n",
    "from sklearn.model_selection import train_test_split\n",
    "from sklearn.svm import SVC"
   ]
  },
  {
   "cell_type": "markdown",
   "id": "fdb77bce",
   "metadata": {},
   "source": [
    "# DataSet-2000 Set"
   ]
  },
  {
   "cell_type": "code",
   "execution_count": 38,
   "id": "90c41bb5",
   "metadata": {},
   "outputs": [
    {
     "name": "stdout",
     "output_type": "stream",
     "text": [
      "0 :  1166 1 :  834 \t total :  2000\n",
      "\n",
      "\n",
      "train Set :  1602 1602\n",
      "test Set :  199 199\n",
      "Valid Set :  199 199\n",
      "\n",
      "\n",
      "train Label 0 :  934 \t train Label 1 :  668\n",
      "test Label 0 :  116 \t test Label 1 :  83\n",
      "valid Label 0 :  116 \t valid Label 1 :  83\n"
     ]
    }
   ],
   "source": [
    "path = \"/data/dataset-2284/ivectors8k/\"\n",
    "files = os.listdir(path)\n",
    "\n",
    "# All : 2000\n",
    "\n",
    "# label ratio\t\t0(1166)\t\t1(834)\n",
    "# train ratio train(8) : test(1) : valid(1)\n",
    "\n",
    "# ---------------------\n",
    "\n",
    "# 8\t\t\t934\t\t668\n",
    "\n",
    "\n",
    "# 1\t\t\t116\t\t83\n",
    "\n",
    "\n",
    "# 1\t\t\t116\t\t83\n",
    "\n",
    "# X ratio Set\n",
    "xtrain_ratio = 934\n",
    "xtest_ratio = 1050\n",
    "xvalid_ratio = 1166\n",
    "\n",
    "# Y ratio Set\n",
    "ytrain_ratio = 668\n",
    "ytest_ratio = 751\n",
    "yvalid_ratio = 834\n",
    "\n",
    "X_train = []\n",
    "X_test = []\n",
    "y_train = []\n",
    "y_test = []\n",
    "X_valid = []\n",
    "y_valid = []\n",
    "\n",
    "pos0_trainCount = 0\n",
    "pos0_testCount = 0\n",
    "pos0_validCount = 0\n",
    "\n",
    "pos1_trainCount = 0\n",
    "pos1_testCount = 0\n",
    "pos1_validCount = 0\n",
    "\n",
    "ycount = 0\n",
    "x1count = 0\n",
    "xcount = 0\n",
    "for file in files:\n",
    "    ivt = np.load(path+file,allow_pickle=True)\n",
    "    if(int(file[7]) == 0):\n",
    "        x1count+=1\n",
    "        if(x1count <= 1166):\n",
    "            xcount+=1\n",
    "            if(xcount <= xtrain_ratio):\n",
    "                X_train.append(ivt)\n",
    "                y_train.append(int(file[7]))\n",
    "                pos0_trainCount += 1\n",
    "            elif(xcount <= xtest_ratio):\n",
    "                X_test.append(ivt)\n",
    "                y_test.append(int(file[7]))\n",
    "                pos0_testCount += 1\n",
    "            elif(xcount <= xvalid_ratio):\n",
    "                X_valid.append(ivt)\n",
    "                y_valid.append(int(file[7]))\n",
    "                pos0_validCount += 1\n",
    "    else:\n",
    "        ycount+=1\n",
    "        if(ycount <= ytrain_ratio):\n",
    "            X_train.append(ivt)\n",
    "            y_train.append(int(file[7]))\n",
    "            pos1_trainCount += 1\n",
    "        elif(ycount <= ytest_ratio):\n",
    "            X_test.append(ivt)\n",
    "            y_test.append(int(file[7]))\n",
    "            pos1_testCount += 1\n",
    "        elif(ycount <= yvalid_ratio):\n",
    "            X_valid.append(ivt)\n",
    "            y_valid.append(int(file[7]))\n",
    "            pos1_validCount += 1\n",
    "        \n",
    "print(\"0 : \",xcount, \"1 : \",ycount , \"\\t\", \"total : \", xcount + ycount)\n",
    "print(\"\\n\")\n",
    "print(\"train Set : \", len(X_train), len(y_train)) \n",
    "print(\"test Set : \", len(X_test), len(y_test)) \n",
    "print(\"Valid Set : \", len(X_valid), len(y_valid))\n",
    "print(\"\\n\")\n",
    "print(\"train Label 0 : \", pos0_trainCount, \"\\t\", \"train Label 1 : \", pos1_trainCount)\n",
    "print(\"test Label 0 : \", pos0_testCount, \"\\t\", \"test Label 1 : \", pos1_testCount)\n",
    "print(\"valid Label 0 : \", pos0_validCount, \"\\t\", \"valid Label 1 : \", pos1_validCount)"
   ]
  },
  {
   "cell_type": "code",
   "execution_count": 39,
   "id": "2fb169cc",
   "metadata": {},
   "outputs": [
    {
     "name": "stdout",
     "output_type": "stream",
     "text": [
      "best score ==> 0.709\n",
      "best parameter ==> {'C': 1, 'gamma': 0.001}\n"
     ]
    }
   ],
   "source": [
    "# grid search\n",
    "\n",
    "best_score = 0\n",
    "values = [0.00001, 0.0001, 0.001, 0.01, 0.1, 1, 10, 100, 1000, 10000]\n",
    "\n",
    "for g in values:\n",
    "\n",
    "    for c in values:\n",
    "        svc = SVC(gamma=g, C=c).fit(X_train, y_train)\n",
    "        score = svc.score(X_valid, y_valid)\n",
    "\n",
    "        if score > best_score:\n",
    "            best_score = score\n",
    "            best_param = {'C':c, 'gamma':g}\n",
    "\n",
    "\n",
    "print('best score ==> {:.3f}'.format(best_score))\n",
    "print('best parameter ==> {}'.format(best_param))"
   ]
  },
  {
   "cell_type": "code",
   "execution_count": 40,
   "id": "7947c188",
   "metadata": {},
   "outputs": [],
   "source": [
    "svc = SVC(gamma=best_param['gamma'], C=best_param['C']).fit(X_train, y_train)"
   ]
  },
  {
   "cell_type": "code",
   "execution_count": 41,
   "id": "448f4464",
   "metadata": {},
   "outputs": [],
   "source": [
    "from sklearn.metrics import accuracy_score, recall_score, precision_score, f1_score\n",
    "y_pred = svc.predict(X_valid)\n",
    "y_pred2 = svc.predict(X_test)\n",
    "#print(y_pred)"
   ]
  },
  {
   "cell_type": "code",
   "execution_count": 42,
   "id": "67cd5fb7",
   "metadata": {},
   "outputs": [
    {
     "name": "stdout",
     "output_type": "stream",
     "text": [
      "Valid\n",
      "[[97 19]\n",
      " [39 44]]\n",
      "\n",
      "\n",
      "Test\n",
      "[[102  14]\n",
      " [ 66  17]]\n"
     ]
    }
   ],
   "source": [
    "from sklearn.metrics import confusion_matrix\n",
    "print(\"Valid\")\n",
    "print(confusion_matrix(y_valid, y_pred))\n",
    "print(\"\\n\")\n",
    "print(\"Test\")\n",
    "print(confusion_matrix(y_test, y_pred2))"
   ]
  },
  {
   "cell_type": "code",
   "execution_count": 43,
   "id": "8c561051",
   "metadata": {},
   "outputs": [
    {
     "name": "stdout",
     "output_type": "stream",
     "text": [
      "Valid\n",
      "              precision    recall  f1-score   support\n",
      "\n",
      "           0     0.7132    0.8362    0.7698       116\n",
      "           1     0.6984    0.5301    0.6027        83\n",
      "\n",
      "    accuracy                         0.7085       199\n",
      "   macro avg     0.7058    0.6832    0.6863       199\n",
      "weighted avg     0.7071    0.7085    0.7001       199\n",
      "\n",
      "\n",
      "\n",
      "Test\n",
      "              precision    recall  f1-score   support\n",
      "\n",
      "           0     0.6071    0.8793    0.7183       116\n",
      "           1     0.5484    0.2048    0.2982        83\n",
      "\n",
      "    accuracy                         0.5980       199\n",
      "   macro avg     0.5778    0.5421    0.5083       199\n",
      "weighted avg     0.5826    0.5980    0.5431       199\n",
      "\n"
     ]
    }
   ],
   "source": [
    "from sklearn.metrics import  classification_report\n",
    "print(\"Valid\")\n",
    "print(classification_report(y_valid, y_pred, digits=4))\n",
    "print(\"\\n\")\n",
    "print(\"Test\")\n",
    "print(classification_report(y_test, y_pred2, digits=4))"
   ]
  },
  {
   "cell_type": "code",
   "execution_count": 46,
   "id": "8f9ab9c4",
   "metadata": {},
   "outputs": [
    {
     "name": "stdout",
     "output_type": "stream",
     "text": [
      "VALID pos_label : 1\n",
      "f1 :  0.6027397260273972\n",
      "recall :  0.5301204819277109\n",
      "precision :  0.6984126984126984\n",
      "\n",
      "\n",
      "TEST pos_label : 1\n",
      "f1 :  0.2982456140350877\n",
      "recall :  0.20481927710843373\n",
      "precision :  0.5483870967741935\n"
     ]
    }
   ],
   "source": [
    "#valid\n",
    "print(\"VALID pos_label : 1\")\n",
    "print(\"f1 : \",f1_score(y_valid, y_pred))\n",
    "print(\"recall : \",recall_score(y_valid, y_pred)) \n",
    "print(\"precision : \",precision_score(y_valid, y_pred))\n",
    "print(\"\\n\")\n",
    "#test\n",
    "print(\"TEST pos_label : 1\")\n",
    "print(\"f1 : \",f1_score(y_test, y_pred2))\n",
    "print(\"recall : \",recall_score(y_test, y_pred2)) \n",
    "print(\"precision : \",precision_score(y_test, y_pred2))"
   ]
  },
  {
   "cell_type": "code",
   "execution_count": 47,
   "id": "2bd9d24a",
   "metadata": {},
   "outputs": [
    {
     "name": "stdout",
     "output_type": "stream",
     "text": [
      "VALID pos_label : 0\n",
      "f1 :  0.7698412698412698\n",
      "recall :  0.8362068965517241\n",
      "precision :  0.7132352941176471\n",
      "\n",
      "\n",
      "TEST pos_label : 0\n",
      "f1 :  0.7183098591549295\n",
      "recall :  0.8793103448275862\n",
      "precision :  0.6071428571428571\n"
     ]
    }
   ],
   "source": [
    "#valid\n",
    "print(\"VALID pos_label : 0\")\n",
    "print(\"f1 : \",f1_score(y_valid, y_pred, pos_label=0))\n",
    "print(\"recall : \",recall_score(y_valid, y_pred,  pos_label=0)) \n",
    "print(\"precision : \",precision_score(y_valid, y_pred,  pos_label=0))\n",
    "print(\"\\n\")\n",
    "#test\n",
    "print(\"TEST pos_label : 0\")\n",
    "print(\"f1 : \",f1_score(y_test, y_pred2, pos_label=0))\n",
    "print(\"recall : \",recall_score(y_test, y_pred2,  pos_label=0)) \n",
    "print(\"precision : \",precision_score(y_test, y_pred2,  pos_label=0))"
   ]
  },
  {
   "cell_type": "code",
   "execution_count": null,
   "id": "8feed521",
   "metadata": {},
   "outputs": [],
   "source": []
  }
 ],
 "metadata": {
  "kernelspec": {
   "display_name": "Python 3 (ipykernel)",
   "language": "python",
   "name": "python3"
  },
  "language_info": {
   "codemirror_mode": {
    "name": "ipython",
    "version": 3
   },
   "file_extension": ".py",
   "mimetype": "text/x-python",
   "name": "python",
   "nbconvert_exporter": "python",
   "pygments_lexer": "ipython3",
   "version": "3.9.10"
  }
 },
 "nbformat": 4,
 "nbformat_minor": 5
}
